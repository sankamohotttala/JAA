{
 "cells": [
  {
   "cell_type": "code",
   "execution_count": 1,
   "metadata": {},
   "outputs": [
    {
     "name": "stdout",
     "output_type": "stream",
     "text": [
      "Graph Info:\n",
      " Name: G\n",
      "Type: Graph\n",
      "Number of nodes: 6\n",
      "Number of edges: 7\n",
      "Average degree:   2.3333\n",
      "\n",
      "Graph Nodes:  [(0, {'name': 0}), (1, {'name': 1}), (2, {'name': 2}), (3, {'name': 3}), (4, {'name': 4}), (5, {'name': 5})]\n"
     ]
    },
    {
     "data": {
      "text/plain": [
       "<Figure size 640x480 with 1 Axes>"
      ]
     },
     "metadata": {},
     "output_type": "display_data"
    }
   ],
   "source": [
    "import networkx as nx\n",
    "import numpy as np\n",
    "import matplotlib.pyplot as plt\n",
    "from scipy.linalg import fractional_matrix_power\n",
    "\n",
    "import warnings\n",
    "warnings.filterwarnings(\"ignore\", category=UserWarning)\n",
    "\n",
    "\n",
    "#Initialize the graph\n",
    "G = nx.Graph(name='G')\n",
    "\n",
    "#Create nodes\n",
    "#In this example, the graph will consist of 6 nodes.\n",
    "#Each node is assigned node feature which corresponds to the node name\n",
    "for i in range(6):\n",
    "    G.add_node(i, name=i)\n",
    "\n",
    "\n",
    "#Define the edges and the edges to the graph\n",
    "edges = [(0,1),(0,2),(1,2),(0,3),(3,4),(3,5),(4,5)]\n",
    "G.add_edges_from(edges)\n",
    "\n",
    "#See graph info\n",
    "print('Graph Info:\\n', nx.info(G))\n",
    "\n",
    "#Inspect the node features\n",
    "print('\\nGraph Nodes: ', G.nodes.data())\n",
    "\n",
    "#Plot the graph\n",
    "nx.draw(G, with_labels=True, font_weight='bold')\n",
    "plt.show()"
   ]
  },
  {
   "cell_type": "code",
   "execution_count": 3,
   "metadata": {},
   "outputs": [
    {
     "data": {
      "text/plain": [
       "'2.0.0'"
      ]
     },
     "execution_count": 3,
     "metadata": {},
     "output_type": "execute_result"
    }
   ],
   "source": [
    "import tensorflow as tf\n",
    "tf.__version__"
   ]
  },
  {
   "cell_type": "code",
   "execution_count": 2,
   "metadata": {},
   "outputs": [
    {
     "name": "stdout",
     "output_type": "stream",
     "text": [
      "Shape of A:  (6, 6)\n",
      "\n",
      "Shape of X:  (6, 1)\n",
      "\n",
      "Adjacency Matrix (A):\n",
      " [[0. 1. 1. 1. 0. 0.]\n",
      " [1. 0. 1. 0. 0. 0.]\n",
      " [1. 1. 0. 0. 0. 0.]\n",
      " [1. 0. 0. 0. 1. 1.]\n",
      " [0. 0. 0. 1. 0. 1.]\n",
      " [0. 0. 0. 1. 1. 0.]]\n",
      "\n",
      "Node Features Matrix (X):\n",
      " [[0]\n",
      " [1]\n",
      " [2]\n",
      " [3]\n",
      " [4]\n",
      " [5]]\n"
     ]
    }
   ],
   "source": [
    "#Get the Adjacency Matrix (A) and Node Features Matrix (X) as numpy array\n",
    "A = np.array(nx.attr_matrix(G, node_attr='name')[0])\n",
    "X = np.array(nx.attr_matrix(G, node_attr='name')[1])\n",
    "X = np.expand_dims(X,axis=1)\n",
    "\n",
    "print('Shape of A: ', A.shape)\n",
    "print('\\nShape of X: ', X.shape)\n",
    "print('\\nAdjacency Matrix (A):\\n', A)\n",
    "print('\\nNode Features Matrix (X):\\n', X)"
   ]
  },
  {
   "cell_type": "code",
   "execution_count": 3,
   "metadata": {},
   "outputs": [
    {
     "name": "stdout",
     "output_type": "stream",
     "text": [
      "Dot product of A and X (AX):\n",
      " [[6.]\n",
      " [2.]\n",
      " [1.]\n",
      " [9.]\n",
      " [8.]\n",
      " [7.]]\n"
     ]
    }
   ],
   "source": [
    "\n",
    "#Dot product Adjacency Matrix (A) and Node Features (X)\n",
    "AX = np.dot(A,X)\n",
    "print(\"Dot product of A and X (AX):\\n\", AX)"
   ]
  },
  {
   "cell_type": "code",
   "execution_count": 4,
   "metadata": {},
   "outputs": [
    {
     "name": "stdout",
     "output_type": "stream",
     "text": [
      "Edges of G with self-loops:\n",
      " [(0, 1), (0, 2), (0, 3), (0, 0), (1, 2), (1, 1), (2, 2), (3, 4), (3, 5), (3, 3), (4, 5), (4, 4), (5, 5)]\n",
      "Adjacency Matrix of added self-loops G (A_hat):\n",
      " [[1. 1. 1. 1. 0. 0.]\n",
      " [1. 1. 1. 0. 0. 0.]\n",
      " [1. 1. 1. 0. 0. 0.]\n",
      " [1. 0. 0. 1. 1. 1.]\n",
      " [0. 0. 0. 1. 1. 1.]\n",
      " [0. 0. 0. 1. 1. 1.]]\n",
      "AX:\n",
      " [[ 6.]\n",
      " [ 3.]\n",
      " [ 3.]\n",
      " [12.]\n",
      " [12.]\n",
      " [12.]]\n"
     ]
    }
   ],
   "source": [
    "#Add Self Loops\n",
    "G_self_loops = G.copy()\n",
    "\n",
    "self_loops = []\n",
    "for i in range(G.number_of_nodes()):\n",
    "    self_loops.append((i,i))\n",
    "\n",
    "G_self_loops.add_edges_from(self_loops)\n",
    "\n",
    "#Check the edges of G_self_loops after adding the self loops\n",
    "print('Edges of G with self-loops:\\n', G_self_loops.edges)\n",
    "\n",
    "#Get the Adjacency Matrix (A) and Node Features Matrix (X) of added self-lopps graph\n",
    "A_hat = np.array(nx.attr_matrix(G_self_loops, node_attr='name')[0])\n",
    "print('Adjacency Matrix of added self-loops G (A_hat):\\n', A_hat)\n",
    "#! havent redone the X since its the same\n",
    "\n",
    "#Calculate the dot product of A_hat and X (AX)\n",
    "AX = np.dot(A_hat, X)\n",
    "print('AX:\\n', AX)"
   ]
  },
  {
   "cell_type": "code",
   "execution_count": 5,
   "metadata": {
    "scrolled": true
   },
   "outputs": [
    {
     "name": "stdout",
     "output_type": "stream",
     "text": [
      "Degree Matrix of added self-loops G (D):  [(0, 5), (1, 4), (2, 4), (3, 5), (4, 4), (5, 4)]\n",
      "Degree Matrix of added self-loops G as numpy array (D):\n",
      " [[5 0 0 0 0 0]\n",
      " [0 4 0 0 0 0]\n",
      " [0 0 4 0 0 0]\n",
      " [0 0 0 5 0 0]\n",
      " [0 0 0 0 4 0]\n",
      " [0 0 0 0 0 4]]\n",
      "Inverse of D:\n",
      " [[ 0.2   0.    0.    0.    0.    0.  ]\n",
      " [ 0.    0.25  0.    0.    0.    0.  ]\n",
      " [ 0.    0.    0.25  0.    0.    0.  ]\n",
      " [-0.   -0.   -0.    0.2  -0.   -0.  ]\n",
      " [ 0.    0.    0.    0.    0.25  0.  ]\n",
      " [ 0.    0.    0.    0.    0.    0.25]]\n",
      "DAX:\n",
      " [[1.2 ]\n",
      " [0.75]\n",
      " [0.75]\n",
      " [2.4 ]\n",
      " [3.  ]\n",
      " [3.  ]]\n"
     ]
    }
   ],
   "source": [
    "#Get the Degree Matrix of the added self-loops graph\n",
    "Deg_Mat = G_self_loops.degree()\n",
    "#print(type(Deg_Mat))\n",
    "print('Degree Matrix of added self-loops G (D): ', Deg_Mat)\n",
    "\n",
    "#Convert the Degree Matrix to a N x N matrix where N is the number of nodes\n",
    "D = np.diag([deg for (n,deg) in list(Deg_Mat)])\n",
    "#I = np.identity(D.shape[0]) #i added\n",
    "#D=D-I #i added\n",
    "print('Degree Matrix of added self-loops G as numpy array (D):\\n', D)\n",
    "\n",
    "#Find the inverse of Degree Matrix (D)\n",
    "D_inv = np.linalg.inv(D)\n",
    "print('Inverse of D:\\n', D_inv)\n",
    "\n",
    "#Dot product of D and AX for normalization\n",
    "DAX = np.dot(D_inv,AX)\n",
    "print('DAX:\\n', DAX)"
   ]
  },
  {
   "cell_type": "markdown",
   "metadata": {},
   "source": [
    "why is that D matrix have more than 1 edges added to each node??(after considering the node-node connection as well) is it because the node - node is counted twice??  "
   ]
  },
  {
   "cell_type": "code",
   "execution_count": 6,
   "metadata": {},
   "outputs": [
    {
     "name": "stdout",
     "output_type": "stream",
     "text": [
      "DADX:\n",
      " [[1.27082039]\n",
      " [0.75      ]\n",
      " [0.75      ]\n",
      " [2.61246118]\n",
      " [2.92082039]\n",
      " [2.92082039]]\n"
     ]
    }
   ],
   "source": [
    "\n",
    "#Symmetrically-normalization\n",
    "D_half_norm = fractional_matrix_power(D, -0.5)#! funtcion is from scipy\n",
    "DADX = D_half_norm.dot(A_hat).dot(D_half_norm).dot(X)\n",
    "print('DADX:\\n', DADX)"
   ]
  },
  {
   "cell_type": "code",
   "execution_count": 7,
   "metadata": {},
   "outputs": [
    {
     "name": "stdout",
     "output_type": "stream",
     "text": [
      "array_a:  (4, 6) \n",
      "array_b:  (6, 4) \n",
      "kk:  (4, 4) \n",
      " [[ 220  235  250  265]\n",
      " [ 580  631  682  733]\n",
      " [ 940 1027 1114 1201]\n",
      " [1300 1423 1546 1669]] \n",
      "mm:  [[ 220  235  250  265]\n",
      " [ 580  631  682  733]\n",
      " [ 940 1027 1114 1201]\n",
      " [1300 1423 1546 1669]]\n"
     ]
    }
   ],
   "source": [
    "#not related to the main code\n",
    "#some testing for dot product\n",
    "X.shape[1]\n",
    "array_a = np.arange(24).reshape(4,6)\n",
    "array_b=np.arange(24).reshape(6,4)\n",
    "test=np.arange(4).reshape(4,1)\n",
    "kk=np.dot(array_a,array_b)\n",
    "\"\"\"above is like array_a *array_b\n",
    "not necesary to worry much\n",
    "\"\"\"\n",
    "mm=array_a.dot(array_b)\n",
    "print('array_a: ',array_a.shape,'\\narray_b: ',array_b.shape,'\\nkk: ',kk.shape,'\\n',kk,'\\nmm: ',mm)\n",
    "#print(mm-kk)"
   ]
  },
  {
   "cell_type": "code",
   "execution_count": 8,
   "metadata": {},
   "outputs": [
    {
     "name": "stdout",
     "output_type": "stream",
     "text": [
      "[[1. 1. 1. 1. 0. 0.]\n",
      " [1. 1. 1. 0. 0. 0.]\n",
      " [1. 1. 1. 0. 0. 0.]\n",
      " [1. 0. 0. 1. 1. 1.]\n",
      " [0. 0. 0. 1. 1. 1.]\n",
      " [0. 0. 0. 1. 1. 1.]]\n",
      "(6,)\n",
      "[4. 3. 3. 4. 3. 3.]\n",
      "(6, 6)\n",
      "[[4. 0. 0. 0. 0. 0.]\n",
      " [0. 3. 0. 0. 0. 0.]\n",
      " [0. 0. 3. 0. 0. 0.]\n",
      " [0. 0. 0. 4. 0. 0.]\n",
      " [0. 0. 0. 0. 3. 0.]\n",
      " [0. 0. 0. 0. 0. 3.]]\n"
     ]
    }
   ],
   "source": [
    "#not related to the main code\n",
    "#some testing for sum func\n",
    "I = np.identity(A.shape[0])\n",
    "A_hat=A+I\n",
    "print(A_hat)\n",
    "ttt=np.sum(A_hat, axis=0)\n",
    "print(ttt.shape)\n",
    "print(ttt)\n",
    "DDD = np.diag(np.sum(A_hat, axis=0)) #create Degree Matrix of A\n",
    "print(DDD.shape)\n",
    "print(DDD)"
   ]
  },
  {
   "cell_type": "code",
   "execution_count": 15,
   "metadata": {},
   "outputs": [
    {
     "name": "stdout",
     "output_type": "stream",
     "text": [
      "(1, 4)\n",
      "(4, 2)\n",
      "H: [[0]\n",
      " [1]\n",
      " [2]\n",
      " [3]\n",
      " [4]\n",
      " [5]] end\n",
      "A_hat:  [[2. 1. 1. 1. 0. 0.]\n",
      " [1. 2. 1. 0. 0. 0.]\n",
      " [1. 1. 2. 0. 0. 0.]\n",
      " [1. 0. 0. 2. 1. 1.]\n",
      " [0. 0. 0. 1. 2. 1.]\n",
      " [0. 0. 0. 1. 1. 2.]] end\n",
      "D: [[5. 0. 0. 0. 0. 0.]\n",
      " [0. 4. 0. 0. 0. 0.]\n",
      " [0. 0. 4. 0. 0. 0.]\n",
      " [0. 0. 0. 5. 0. 0.]\n",
      " [0. 0. 0. 0. 4. 0.]\n",
      " [0. 0. 0. 0. 0. 4.]] end (6, 6)\n",
      "<class 'numpy.ndarray'>\n",
      "[[0.4472136 0.        0.        0.        0.        0.       ]\n",
      " [0.        0.5       0.        0.        0.        0.       ]\n",
      " [0.        0.        0.5       0.        0.        0.       ]\n",
      " [0.        0.        0.        0.4472136 0.        0.       ]\n",
      " [0.        0.        0.        0.        0.5       0.       ]\n",
      " [0.        0.        0.        0.        0.        0.5      ]]\n",
      "eq: [[ 0.0026616  -0.00823941  0.0107974   0.00082675]\n",
      " [ 0.0020944  -0.00648353  0.0084964   0.00065057]\n",
      " [ 0.002618   -0.00810442  0.0106205   0.00081321]\n",
      " [ 0.00672818 -0.0208281   0.02729436  0.00208992]\n",
      " [ 0.00821176 -0.02542077  0.03331286  0.00255075]\n",
      " [ 0.00873536 -0.02704165  0.03543696  0.00271339]] lol\n",
      "H: [[0.0026616  0.         0.0107974  0.00082675]\n",
      " [0.0020944  0.         0.0084964  0.00065057]\n",
      " [0.002618   0.         0.0106205  0.00081321]\n",
      " [0.00672818 0.         0.02729436 0.00208992]\n",
      " [0.00821176 0.         0.03331286 0.00255075]\n",
      " [0.00873536 0.         0.03543696 0.00271339]] end\n",
      "A_hat:  [[2. 1. 1. 1. 0. 0.]\n",
      " [1. 2. 1. 0. 0. 0.]\n",
      " [1. 1. 2. 0. 0. 0.]\n",
      " [1. 0. 0. 2. 1. 1.]\n",
      " [0. 0. 0. 1. 2. 1.]\n",
      " [0. 0. 0. 1. 1. 2.]] end\n",
      "D: [[5. 0. 0. 0. 0. 0.]\n",
      " [0. 4. 0. 0. 0. 0.]\n",
      " [0. 0. 4. 0. 0. 0.]\n",
      " [0. 0. 0. 5. 0. 0.]\n",
      " [0. 0. 0. 0. 4. 0.]\n",
      " [0. 0. 0. 0. 0. 4.]] end (6, 6)\n",
      "<class 'numpy.ndarray'>\n",
      "[[0.4472136 0.        0.        0.        0.        0.       ]\n",
      " [0.        0.5       0.        0.        0.        0.       ]\n",
      " [0.        0.        0.5       0.        0.        0.       ]\n",
      " [0.        0.        0.        0.4472136 0.        0.       ]\n",
      " [0.        0.        0.        0.        0.5       0.       ]\n",
      " [0.        0.        0.        0.        0.        0.5      ]]\n",
      "eq: [[ 2.52474344e-04 -1.50003656e-04]\n",
      " [ 1.67406476e-04 -9.94619210e-05]\n",
      " [ 1.76947141e-04 -1.05130357e-04]\n",
      " [ 5.11149825e-04 -3.03691619e-04]\n",
      " [ 5.68080732e-04 -3.37516220e-04]\n",
      " [ 5.77621397e-04 -3.43184656e-04]] lol\n",
      "Features Representation from GCN output:\n",
      " [[0.00025247 0.        ]\n",
      " [0.00016741 0.        ]\n",
      " [0.00017695 0.        ]\n",
      " [0.00051115 0.        ]\n",
      " [0.00056808 0.        ]\n",
      " [0.00057762 0.        ]]\n"
     ]
    }
   ],
   "source": [
    "#Initialize the weights\n",
    "np.random.seed(77777)\n",
    "n_h = 4 #number of neurons in the hidden layer\n",
    "n_y = 2 #number of neurons in the output layer\n",
    "W0 = np.random.randn(X.shape[1],n_h) * 0.01\n",
    "print(W0.shape)\n",
    "W1 = np.random.randn(n_h,n_y) * 0.01\n",
    "print(W1.shape)\n",
    "\n",
    "#Implement ReLu as activation function\n",
    "def relu(x):\n",
    "    return np.maximum(0,x)\n",
    "\n",
    "#Build GCN layer\n",
    "#In this function, we implement numpy to simplify\n",
    "def gcn(A,H,W):\n",
    "    I = np.identity(A.shape[0]) #create Identity Matrix of A\n",
    "    print('H:',H,'end')\n",
    "    A_hat = A + I #add self-loop to A i have multiplyed by two since self loop represent two connections?\n",
    "    print('A_hat: ',A_hat,'end')\n",
    "    D = np.diag(np.sum(A_hat, axis=0)) #create Degree Matrix of A\n",
    "    print('D:',D, 'end',D.shape)\n",
    "    D_half_norm = fractional_matrix_power(D, -.5) #calculate D to the power of -0.5\n",
    "    print(type(D_half_norm))\n",
    "    print(D_half_norm)\n",
    "    eq = D_half_norm.dot(A_hat).dot(D_half_norm).dot(H).dot(W)\n",
    "    print('eq: {} lol'.format(eq))\n",
    "    return relu(eq)\n",
    "\n",
    "\n",
    "#Do forward propagation\n",
    "H1 = gcn(A,X,W0)\n",
    "H2 = gcn(A,H1,W1)\n",
    "print('Features Representation from GCN output:\\n', H2)"
   ]
  },
  {
   "cell_type": "code",
   "execution_count": 10,
   "metadata": {},
   "outputs": [
    {
     "name": "stdout",
     "output_type": "stream",
     "text": [
      "(1, 4)\n",
      "(4, 2)\n"
     ]
    },
    {
     "data": {
      "text/plain": [
       "<function numpy.diag(v, k=0)>"
      ]
     },
     "execution_count": 10,
     "metadata": {},
     "output_type": "execute_result"
    }
   ],
   "source": [
    "print(W0.shape)\n",
    "print(W1.shape)\n",
    "np.diag"
   ]
  },
  {
   "cell_type": "code",
   "execution_count": 16,
   "metadata": {},
   "outputs": [
    {
     "name": "stdout",
     "output_type": "stream",
     "text": [
      "[0.00025247 0.        ]    0 \n",
      "\n",
      "[0.00016741 0.        ]    1 \n",
      "\n",
      "[0.00017695 0.        ]    2 \n",
      "\n",
      "[0.00051115 0.        ]    3 \n",
      "\n",
      "[0.00056808 0.        ]    4 \n",
      "\n",
      "[0.00057762 0.        ]    5 \n",
      "\n"
     ]
    },
    {
     "data": {
      "image/png": "[encoded data removed]",
      "text/plain": [
       "<Figure size 432x288 with 1 Axes>"
      ]
     },
     "metadata": {
      "needs_background": "light"
     },
     "output_type": "display_data"
    }
   ],
   "source": [
    "def plot_features(H2):\n",
    "    #Plot the features representation\n",
    "    x = H2[:,0]\n",
    "    y = H2[:,1]\n",
    "\n",
    "    size = 1000\n",
    "\n",
    "    plt.scatter(x,y,size)\n",
    "    plt.xlim([np.min(x)*0.9, np.max(x)*1.1])\n",
    "    plt.ylim([-1, 1])\n",
    "    plt.xlabel('Feature Representation Dimension 0')\n",
    "    plt.ylabel('Feature Representation Dimension 1')\n",
    "    plt.title('Feature Representation')\n",
    "\n",
    "    for i,row in enumerate(H2):\n",
    "        str = \"{}\".format(i)\n",
    "        print(row,'  ',i,'\\n') #should know these by practice i guess\n",
    "        plt.annotate(str, (row[0],row[1]),fontsize=18, fontweight='bold')\n",
    "\n",
    "    plt.show()\n",
    "\n",
    "\n",
    "plot_features(H2)"
   ]
  },
  {
   "cell_type": "code",
   "execution_count": null,
   "metadata": {},
   "outputs": [],
   "source": []
  }
 ],
 "metadata": {
  "kernelspec": {
   "display_name": "Python 3",
   "language": "python",
   "name": "python3"
  },
  "language_info": {
   "codemirror_mode": {
    "name": "ipython",
    "version": 3
   },
   "file_extension": ".py",
   "mimetype": "text/x-python",
   "name": "python",
   "nbconvert_exporter": "python",
   "pygments_lexer": "ipython3",
   "version": "3.6.8"
  }
 },
 "nbformat": 4,
 "nbformat_minor": 2
}
